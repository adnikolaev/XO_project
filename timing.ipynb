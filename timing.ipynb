{
 "cells": [
  {
   "cell_type": "code",
   "execution_count": 1,
   "metadata": {
    "collapsed": true
   },
   "outputs": [],
   "source": [
    "import numpy as np\n",
    "import pandas as pd\n",
    "from scipy import interpolate\n",
    "import matplotlib.pyplot as plt\n",
    "import matplotlib.patches as mpatches"
   ]
  },
  {
   "cell_type": "code",
   "execution_count": 2,
   "metadata": {
    "collapsed": true
   },
   "outputs": [],
   "source": [
    "N = 5 # board dimensions\n",
    "\n",
    "# plot configuration\n",
    "fig_size = plt.rcParams[\"figure.figsize\"]\n",
    "plt.rcParams[\"figure.figsize\"] = 8, 5"
   ]
  },
  {
   "cell_type": "code",
   "execution_count": 3,
   "metadata": {},
   "outputs": [
    {
     "data": {
      "text/html": [
       "<div>\n",
       "<style scoped>\n",
       "    .dataframe tbody tr th:only-of-type {\n",
       "        vertical-align: middle;\n",
       "    }\n",
       "\n",
       "    .dataframe tbody tr th {\n",
       "        vertical-align: top;\n",
       "    }\n",
       "\n",
       "    .dataframe thead th {\n",
       "        text-align: right;\n",
       "    }\n",
       "</style>\n",
       "<table border=\"1\" class=\"dataframe\">\n",
       "  <thead>\n",
       "    <tr style=\"text-align: right;\">\n",
       "      <th></th>\n",
       "      <th>MCTS</th>\n",
       "      <th>Alpha-beta</th>\n",
       "    </tr>\n",
       "  </thead>\n",
       "  <tbody>\n",
       "    <tr>\n",
       "      <th>0</th>\n",
       "      <td>1.500141</td>\n",
       "      <td>17.736271</td>\n",
       "    </tr>\n",
       "    <tr>\n",
       "      <th>1</th>\n",
       "      <td>1.484531</td>\n",
       "      <td>14.001453</td>\n",
       "    </tr>\n",
       "    <tr>\n",
       "      <th>2</th>\n",
       "      <td>1.484531</td>\n",
       "      <td>11.048068</td>\n",
       "    </tr>\n",
       "    <tr>\n",
       "      <th>3</th>\n",
       "      <td>1.468900</td>\n",
       "      <td>7.891459</td>\n",
       "    </tr>\n",
       "    <tr>\n",
       "      <th>4</th>\n",
       "      <td>1.453278</td>\n",
       "      <td>11.251163</td>\n",
       "    </tr>\n",
       "    <tr>\n",
       "      <th>5</th>\n",
       "      <td>1.437651</td>\n",
       "      <td>5.860018</td>\n",
       "    </tr>\n",
       "    <tr>\n",
       "      <th>6</th>\n",
       "      <td>1.531385</td>\n",
       "      <td>6.703832</td>\n",
       "    </tr>\n",
       "    <tr>\n",
       "      <th>7</th>\n",
       "      <td>1.531436</td>\n",
       "      <td>1.562640</td>\n",
       "    </tr>\n",
       "    <tr>\n",
       "      <th>8</th>\n",
       "      <td>1.375146</td>\n",
       "      <td>0.703227</td>\n",
       "    </tr>\n",
       "    <tr>\n",
       "      <th>9</th>\n",
       "      <td>1.390745</td>\n",
       "      <td>0.187519</td>\n",
       "    </tr>\n",
       "    <tr>\n",
       "      <th>10</th>\n",
       "      <td>1.359518</td>\n",
       "      <td>0.031279</td>\n",
       "    </tr>\n",
       "    <tr>\n",
       "      <th>11</th>\n",
       "      <td>1.203228</td>\n",
       "      <td>0.000000</td>\n",
       "    </tr>\n",
       "    <tr>\n",
       "      <th>12</th>\n",
       "      <td>0.859487</td>\n",
       "      <td>NaN</td>\n",
       "    </tr>\n",
       "  </tbody>\n",
       "</table>\n",
       "</div>"
      ],
      "text/plain": [
       "        MCTS  Alpha-beta\n",
       "0   1.500141   17.736271\n",
       "1   1.484531   14.001453\n",
       "2   1.484531   11.048068\n",
       "3   1.468900    7.891459\n",
       "4   1.453278   11.251163\n",
       "5   1.437651    5.860018\n",
       "6   1.531385    6.703832\n",
       "7   1.531436    1.562640\n",
       "8   1.375146    0.703227\n",
       "9   1.390745    0.187519\n",
       "10  1.359518    0.031279\n",
       "11  1.203228    0.000000\n",
       "12  0.859487         NaN"
      ]
     },
     "execution_count": 3,
     "metadata": {},
     "output_type": "execute_result"
    }
   ],
   "source": [
    "data = pd.read_csv('timing.csv') # in seconds\n",
    "bot1_time = data['MCTS'].values\n",
    "bot2_time = data['Alpha-beta'].values\n",
    "bot2_time = bot2_time[~np.isnan(bot2_time)] # removing NaNs\n",
    "data"
   ]
  },
  {
   "cell_type": "code",
   "execution_count": 4,
   "metadata": {},
   "outputs": [
    {
     "data": {
      "image/png": "[encoded data removed]",
      "text/plain": [
       "<matplotlib.figure.Figure at 0x1d1b1f50780>"
      ]
     },
     "metadata": {},
     "output_type": "display_data"
    }
   ],
   "source": [
    "def cubic_spline(points, c):\n",
    "    tck,u = interpolate.splprep(points.transpose(), s=0)\n",
    "    unew = np.arange(0, 1.01, 0.01)\n",
    "    out = interpolate.splev(unew, tck)\n",
    "    \n",
    "    plt.plot(out[0], out[1], color=c)\n",
    "    plt.plot(points[:,0], points[:,1], 'o' + c)\n",
    "\n",
    "\n",
    "bot1_points = np.column_stack((np.arange(1, 2 * len(bot1_time), 2), bot1_time))\n",
    "cubic_spline(bot1_points, 'r')\n",
    "\n",
    "bot2_points = np.column_stack((np.arange(2, 2 * len(bot2_time)+1, 2), bot2_time))\n",
    "cubic_spline(bot2_points, 'b')\n",
    "\n",
    "bot1_patch = mpatches.Patch(color='r', label='Monte Carlo Tree Search')\n",
    "bot2_patch = mpatches.Patch(color='b', label='Alpha-beta Pruning')\n",
    "plt.legend(handles=[bot1_patch, bot2_patch])\n",
    "\n",
    "plt.xlabel('ply, #')\n",
    "plt.ylabel('time, s')\n",
    "\n",
    "plt.xlim([1, len(bot1_time) + len(bot2_time)])\n",
    "plt.ylim([0, int(max(max(bot1_time), max(bot2_time)))+1])\n",
    "\n",
    "plt.grid(color='grey', linestyle='-', linewidth=0.2)\n",
    "# plt.savefig('1.png')\n",
    "plt.show()"
   ]
  }
 ],
 "metadata": {
  "kernelspec": {
   "display_name": "Python 3",
   "language": "python",
   "name": "python3"
  },
  "language_info": {
   "codemirror_mode": {
    "name": "ipython",
    "version": 3
   },
   "file_extension": ".py",
   "mimetype": "text/x-python",
   "name": "python",
   "nbconvert_exporter": "python",
   "pygments_lexer": "ipython3",
   "version": "3.5.3"
  }
 },
 "nbformat": 4,
 "nbformat_minor": 2
}
